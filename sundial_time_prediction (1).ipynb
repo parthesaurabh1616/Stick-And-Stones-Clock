{
  "nbformat": 4,
  "nbformat_minor": 0,
  "metadata": {
    "colab": {
      "provenance": []
    },
    "kernelspec": {
      "name": "python3",
      "display_name": "Python 3"
    },
    "language_info": {
      "name": "python"
    }
  },
  "cells": [
    {
      "cell_type": "markdown",
      "source": [
        "\n",
        "**File Name:** sundial_time_prediction.py\n",
        "\n",
        "**Description:**\n",
        "  This script demonstrates how to:\n",
        "  1. Generate a synthetic sundial shadow dataset using the Astral library.\n",
        "  2. Save the dataset as a CSV file.\n",
        "  3. Train a predictive model (Random Forest) to estimate time-of-day from shadow length & angle.\n",
        "  4. Evaluate the model using cross-validation and a final test split.\n",
        "  5. Print performance metrics (MAE, R^2).\n",
        "\n",
        "**Usage:**\n",
        "  python sundial_time_prediction.py\n",
        "\n",
        "**Dependencies:**\n",
        "  pip install astral scikit-learn pandas\n"
      ],
      "metadata": {
        "id": "rDYblFxI0_Kx"
      }
    },
    {
      "cell_type": "markdown",
      "source": [
        "**STEP 1: IMPORT LIBRARIES**"
      ],
      "metadata": {
        "id": "CyXtdq4d1P2n"
      }
    },
    {
      "cell_type": "code",
      "source": [
        "import math\n",
        "import datetime\n",
        "import pandas as pd\n",
        "\n",
        "# Astral for sun position calculations\n",
        "from astral import LocationInfo\n",
        "from astral.sun import sun, elevation, azimuth\n",
        "\n",
        "# Scikit-learn for model building\n",
        "from sklearn.model_selection import train_test_split, KFold, cross_val_score\n",
        "from sklearn.ensemble import RandomForestRegressor\n",
        "from sklearn.metrics import mean_absolute_error, r2_score"
      ],
      "metadata": {
        "id": "WHRhutLCyOGL"
      },
      "execution_count": 27,
      "outputs": []
    },
    {
      "cell_type": "markdown",
      "source": [
        "**STEP 2: DEFINE LOCATION & DATE/TIME RANGE**"
      ],
      "metadata": {
        "id": "Dd4FIoCp2RMz"
      }
    },
    {
      "cell_type": "code",
      "source": [
        "def define_location_and_time_ranges():\n",
        "    city = LocationInfo(\n",
        "        name=\"Pune\",\n",
        "        region=\"India\",\n",
        "        timezone=\"Asia/Kolkata\",\n",
        "        latitude=52.5200,\n",
        "        longitude=13.4050\n",
        "    )\n",
        "\n",
        "    # Define date range\n",
        "    start_date = datetime.date(2025, 2, 23)\n",
        "    end_date   = datetime.date(2025, 2, 26)\n",
        "\n",
        "    date_list = []\n",
        "    delta = datetime.timedelta(days=1)\n",
        "    current_date = start_date\n",
        "    while current_date <= end_date:\n",
        "        date_list.append(current_date)\n",
        "        current_date += delta\n",
        "\n",
        "    # Define times-of-day (every 15 minutes from 5:00 to 20:00)\n",
        "    times = []\n",
        "    for hour in range(5, 21):\n",
        "        for minute in [0, 15, 30, 45]:\n",
        "            times.append(datetime.time(hour, minute))\n",
        "\n",
        "    return city, date_list, times"
      ],
      "metadata": {
        "id": "6-lLngS02LzX"
      },
      "execution_count": 35,
      "outputs": []
    },
    {
      "cell_type": "markdown",
      "source": [
        "**STEP 3: GENERATE SUNDIAL DATA USING ASTRAL**"
      ],
      "metadata": {
        "id": "0oeLit-a22ht"
      }
    },
    {
      "cell_type": "code",
      "source": [
        "def generate_sundial_data(city, date_list, times, stick_height=1.0, noise_factor=0.0):\n",
        "    data_records = []\n",
        "\n",
        "    for date_ in date_list:\n",
        "        for t_ in times:\n",
        "            dt = datetime.datetime.combine(date_, t_)\n",
        "\n",
        "            elev_deg = elevation(city.observer, dt)\n",
        "            azim_deg = azimuth(city.observer, dt)\n",
        "\n",
        "            # Only consider times when sun is above horizon\n",
        "            if elev_deg > 0:\n",
        "                # Convert elevation from degrees to radians\n",
        "                elev_rad = math.radians(elev_deg)\n",
        "\n",
        "                # Compute shadow length = stick_height / tan(elev)\n",
        "                base_shadow_length = stick_height / math.tan(elev_rad)\n",
        "\n",
        "                # Introduce optional noise\n",
        "                shadow_length = base_shadow_length * (1 + random.uniform(-noise_factor, noise_factor))\n",
        "\n",
        "                # Shadow angle = sun azimuth (could also add a small random offset if desired)\n",
        "                base_shadow_angle = azim_deg\n",
        "                shadow_angle = base_shadow_angle + random.uniform(-2, 2)*noise_factor\n",
        "\n",
        "                # Time in decimal (e.g., 5:15 => 5.25)\n",
        "                time_decimal = t_.hour + t_.minute/60.0\n",
        "\n",
        "                # Store record\n",
        "                data_records.append({\n",
        "                    'date': str(date_),\n",
        "                    'time_str': t_.strftime('%H:%M'),\n",
        "                    'time_of_day': time_decimal,\n",
        "                    'shadow_length': shadow_length,\n",
        "                    'shadow_angle': shadow_angle\n",
        "                })\n",
        "\n",
        "    df = pd.DataFrame(data_records)\n",
        "    return df"
      ],
      "metadata": {
        "id": "c-yeoT9t22Sx"
      },
      "execution_count": 36,
      "outputs": []
    },
    {
      "cell_type": "markdown",
      "source": [
        "**STEP 4: SAVE DATA TO CSV**"
      ],
      "metadata": {
        "id": "E7y9SwuG3QZR"
      }
    },
    {
      "cell_type": "code",
      "source": [
        "def save_data_to_csv(df, filename='sundial_astral_data.csv'):\n",
        "    \"\"\"\n",
        "    Saves the generated dataset to a CSV file.\n",
        "    \"\"\"\n",
        "    df.to_csv(filename, index=False)\n",
        "    print(f\"[INFO] Dataset saved to {filename} with {len(df)} entries.\")"
      ],
      "metadata": {
        "id": "DiZsG8Xb3QOk"
      },
      "execution_count": 37,
      "outputs": []
    },
    {
      "cell_type": "markdown",
      "source": [
        "**STEP 5: TRAIN AND EVALUATE MODEL WITH CROSS-VALIDATION**"
      ],
      "metadata": {
        "id": "0-xwUWxl3afD"
      }
    },
    {
      "cell_type": "code",
      "source": [
        "def train_and_evaluate_model(df):\n",
        "    \"\"\"\n",
        "    Trains a RandomForestRegressor to predict time_of_day from (shadow_length, shadow_angle).\n",
        "    Demonstrates:\n",
        "      - Train/Test split\n",
        "      - K-Fold Cross Validation\n",
        "      - Final evaluation\n",
        "    \"\"\"\n",
        "    # Features (X) and target (y)\n",
        "    X = df[['shadow_length', 'shadow_angle']].values\n",
        "    y = df['time_of_day'].values\n",
        "\n",
        "    # 5.1: Train/Test Split\n",
        "    X_train, X_test, y_train, y_test = train_test_split(\n",
        "        X, y, test_size=0.2, random_state=42\n",
        "    )\n",
        "\n",
        "    # 5.2: Define Model\n",
        "    model = RandomForestRegressor(n_estimators=100, random_state=42)\n",
        "\n",
        "    # 5.3: (Optional) K-Fold Cross Validation on entire dataset\n",
        "    kf = KFold(n_splits=5, shuffle=True, random_state=42)\n",
        "    cv_scores = cross_val_score(model, X, y, cv=kf, scoring='neg_mean_absolute_error')\n",
        "    cv_mae = -cv_scores.mean()\n",
        "    print(f\"[INFO] 5-Fold CV MAE: {cv_mae:.2f} hours\")\n",
        "\n",
        "    # 5.4: Train on Train Split\n",
        "    model.fit(X_train, y_train)\n",
        "\n",
        "    # 5.5: Predict on Test Split\n",
        "    y_pred = model.predict(X_test)\n",
        "\n",
        "    # 5.6: Evaluate\n",
        "    mae = mean_absolute_error(y_test, y_pred)\n",
        "    r2  = r2_score(y_test, y_pred)\n",
        "\n",
        "    print(f\"[RESULT] Test MAE: {mae:.2f} hours\")\n",
        "    print(f\"[RESULT] Test R^2 Score: {r2:.2f}\")\n",
        "\n",
        "    # Return the trained model in case we want to do further predictions\n",
        "    return model"
      ],
      "metadata": {
        "id": "i7Rre4iS3gmS"
      },
      "execution_count": 38,
      "outputs": []
    },
    {
      "cell_type": "markdown",
      "source": [
        "**STEP 6: MAIN EXECUTION FLOW**"
      ],
      "metadata": {
        "id": "Y4MvVSMV3sg7"
      }
    },
    {
      "cell_type": "code",
      "source": [
        "def main():\n",
        "    \"\"\"\n",
        "    Main function to tie all steps together.\n",
        "    1. Define location & time ranges.\n",
        "    2. Generate synthetic data.\n",
        "    3. Save CSV.\n",
        "    4. Train & evaluate model.\n",
        "    \"\"\"\n",
        "    # (1) Define location and time range\n",
        "    city, date_list, times = define_location_and_time_ranges()\n",
        "\n",
        "    # (2) Generate data (optionally add noise_factor if you want realism, e.g. 0.05)\n",
        "    df_sundial = generate_sundial_data(city, date_list, times, stick_height=1.0, noise_factor=0.02)\n",
        "\n",
        "    # (3) Save to CSV\n",
        "    save_data_to_csv(df_sundial, filename='sundial_astral_data.csv')\n",
        "\n",
        "    # (4) Train & evaluate with cross-validation\n",
        "    trained_model = train_and_evaluate_model(df_sundial)\n",
        "\n",
        "    # End of main\n",
        "    print(\"[INFO] Pipeline completed successfully!\")"
      ],
      "metadata": {
        "id": "ZAoPg51R3zhs"
      },
      "execution_count": 39,
      "outputs": []
    },
    {
      "cell_type": "markdown",
      "source": [
        "**STEP 7: ENTRY POINT**"
      ],
      "metadata": {
        "id": "RNiu_J5x35p2"
      }
    },
    {
      "cell_type": "code",
      "source": [
        "if __name__ == \"__main__\":\n",
        "    main()"
      ],
      "metadata": {
        "colab": {
          "base_uri": "https://localhost:8080/"
        },
        "id": "XbAYltAo3_VQ",
        "outputId": "0ab6b2d9-997d-4aaf-d3ab-252bd5ab68d1"
      },
      "execution_count": 40,
      "outputs": [
        {
          "output_type": "stream",
          "name": "stdout",
          "text": [
            "[INFO] Dataset saved to sundial_astral_data.csv with 168 entries.\n",
            "[INFO] 5-Fold CV MAE: 0.03 hours\n",
            "[RESULT] Test MAE: 0.03 hours\n",
            "[RESULT] Test R^2 Score: 1.00\n",
            "[INFO] Pipeline completed successfully!\n"
          ]
        }
      ]
    }
  ]
}